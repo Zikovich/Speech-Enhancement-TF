{
 "cells": [
  {
   "cell_type": "code",
   "execution_count": 1,
   "metadata": {},
   "outputs": [],
   "source": [
    "import soundfile as sf\n",
    "import numpy as np\n",
    "import matplotlib.pyplot as plt\n",
    "import librosa\n",
    "import IPython.display as ipd\n"
   ]
  },
  {
   "cell_type": "code",
   "execution_count": 28,
   "metadata": {},
   "outputs": [
    {
     "name": "stdout",
     "output_type": "stream",
     "text": [
      "File example:\n",
      "Clean:  /Users/seunghyunoh/workplace/study/NoiseReduction/Tiny-SpeechEnhancement/data/VoiceBankDEMAND/DS_10283_2791/clean_trainset_28spk_wav/p226_001.wav The number:  34647\n",
      "Noisy:  /Users/seunghyunoh/workplace/study/NoiseReduction/Tiny-SpeechEnhancement/data/VoiceBankDEMAND/DS_10283_2791/noisy_trainset_28spk_wav/p226_001.wav The number:  34647\n",
      "Training: 27718\n",
      "Validation: 6929\n",
      "File example:\n",
      "Clean:  /Users/seunghyunoh/workplace/study/NoiseReduction/Tiny-SpeechEnhancement/data/VoiceBankDEMAND/DS_10283_2791/clean_testset_wav/p232_001.wav The number:  824\n",
      "Noisy:  /Users/seunghyunoh/workplace/study/NoiseReduction/Tiny-SpeechEnhancement/data/VoiceBankDEMAND/DS_10283_2791/noisy_testset_wav/p232_001.wav The number:  824\n",
      "# of Noise testing files: 824\n"
     ]
    }
   ],
   "source": [
    "from preprocess.VoiceBankDEMAND import VoiceBandDEMAND\n",
    "base_path = \"/Users/seunghyunoh/workplace/study/NoiseReduction/Tiny-SpeechEnhancement/data/VoiceBankDEMAND/DS_10283_2791\"\n",
    "split = 1\n",
    "dataset_voicebank = VoiceBandDEMAND(base_path, val_dataset_percent=1-0.8)\n",
    "clean_train_filenames, noisy_train_filenames, clean_val_filenames, noisy_val_filenames = dataset_voicebank.get_train_val_filenames()\n",
    "clean_test_filenames, noisy_test_filenames = dataset_voicebank.get_test_filenames()"
   ]
  },
  {
   "cell_type": "code",
   "execution_count": 29,
   "metadata": {},
   "outputs": [
    {
     "data": {
      "text/plain": [
       "(27718, 27718, 6929, 6929)"
      ]
     },
     "execution_count": 29,
     "metadata": {},
     "output_type": "execute_result"
    }
   ],
   "source": [
    "len(clean_train_filenames), len(noisy_train_filenames), len(clean_val_filenames), len(noisy_val_filenames)"
   ]
  },
  {
   "cell_type": "code",
   "execution_count": 36,
   "metadata": {},
   "outputs": [],
   "source": [
    "import os\n",
    "import copy\n",
    "import glob\n",
    "from pathlib import Path\n",
    "path_list = glob.glob(os.path.join(base_path, '*clean_trainset_56*'))\n",
    "file_list = []\n",
    "EXT_LIST = ['wav']\n",
    "for path in path_list:\n",
    "    for root, folders, files in os.walk(path, followlinks=True):\n",
    "        root = Path(root)\n",
    "        if root.name.startswith('.') or folders or root == path:\n",
    "                continue\n",
    "        \n",
    "        file_names = [str(root/file) for file in files if str(file.split(\".\")[-1]) in EXT_LIST]\n",
    "        file_list += copy.deepcopy(file_names)\n",
    "        del file_names\n",
    "\n",
    "\n",
    "file_list = sorted(file_list)"
   ]
  },
  {
   "cell_type": "code",
   "execution_count": 37,
   "metadata": {},
   "outputs": [
    {
     "data": {
      "text/plain": [
       "23075"
      ]
     },
     "execution_count": 37,
     "metadata": {},
     "output_type": "execute_result"
    }
   ],
   "source": [
    "len(file_list)"
   ]
  },
  {
   "cell_type": "code",
   "execution_count": 38,
   "metadata": {},
   "outputs": [],
   "source": [
    "head = []\n",
    "tail = []\n",
    "for file_name in file_list:\n",
    "    _head, _tail = file_name.split(\"/\")[-1].split(\".\")[0].split(\"_\")\n",
    "    if _head in head:\n",
    "        pass\n",
    "    else:\n",
    "        head.append(_head)\n",
    "    \n",
    "    if _tail in tail:\n",
    "        pass\n",
    "    else:\n",
    "        tail.append(_tail)\n",
    "head = sorted(head)\n",
    "tail = sorted(tail)"
   ]
  },
  {
   "cell_type": "code",
   "execution_count": 39,
   "metadata": {},
   "outputs": [
    {
     "data": {
      "text/plain": [
       "(58, 495)"
      ]
     },
     "execution_count": 39,
     "metadata": {},
     "output_type": "execute_result"
    }
   ],
   "source": [
    "len(head), len(tail)"
   ]
  }
 ],
 "metadata": {
  "kernelspec": {
   "display_name": "Python 3.8.13 ('mlp')",
   "language": "python",
   "name": "python3"
  },
  "language_info": {
   "codemirror_mode": {
    "name": "ipython",
    "version": 3
   },
   "file_extension": ".py",
   "mimetype": "text/x-python",
   "name": "python",
   "nbconvert_exporter": "python",
   "pygments_lexer": "ipython3",
   "version": "3.8.13"
  },
  "orig_nbformat": 4,
  "vscode": {
   "interpreter": {
    "hash": "a7c2bc294fb4a4c68eb1f6998c466cc1127bf5e3b69a7adb6cd789b68ede878a"
   }
  }
 },
 "nbformat": 4,
 "nbformat_minor": 2
}
